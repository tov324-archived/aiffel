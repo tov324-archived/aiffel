{
 "cells": [
  {
   "cell_type": "markdown",
   "source": [
    "# Exploration 2번째 프로젝트\n",
    "\n",
    "숫자/와인/유방암 데이터를 사용하여 모델 학습 및 평가하기\n",
    "\n",
    "파이썬 연습할 겸, 공통적으로 사용되는 각 단계를 함수로 구현해 봄."
   ],
   "metadata": {
    "collapsed": false,
    "pycharm": {
     "name": "#%% md\n"
    }
   }
  },
  {
   "cell_type": "markdown",
   "source": [
    "## 5가지 모델 선정\n",
    "\n",
    "의사결정트리, 랜덤포레스트, 서포트벡터머신, SGD, 로지스틱회귀"
   ],
   "metadata": {
    "collapsed": false,
    "pycharm": {
     "name": "#%% md\n"
    }
   }
  },
  {
   "cell_type": "code",
   "execution_count": 449,
   "outputs": [],
   "source": [
    "from sklearn.tree import DecisionTreeClassifier\n",
    "from sklearn.ensemble import RandomForestClassifier\n",
    "from sklearn.svm import SVC\n",
    "from sklearn.linear_model import SGDClassifier\n",
    "from sklearn.linear_model import LogisticRegression\n",
    "\n",
    "def get_common_models():\n",
    "    return {\n",
    "        'DecisionTreeClassifier': DecisionTreeClassifier(),\n",
    "        'RandomForestClassifier': RandomForestClassifier(random_state=32),\n",
    "        'SupportVectorMachine': SVC(),\n",
    "        'SGDClassifier': SGDClassifier(),\n",
    "        'LogisticRegression': LogisticRegression(),\n",
    "    }\n",
    "\n",
    "print_title = lambda title: print('=====', title, '=====')"
   ],
   "metadata": {
    "collapsed": false,
    "pycharm": {
     "name": "#%%\n"
    }
   }
  },
  {
   "cell_type": "markdown",
   "source": [
    "## 데이터셋 살펴보기\n",
    "\n",
    "Pandas 데이터프레임을 활용하여 데이터 분석"
   ],
   "metadata": {
    "collapsed": false
   }
  },
  {
   "cell_type": "code",
   "execution_count": 450,
   "outputs": [],
   "source": [
    "import pandas as pd\n",
    "\n",
    "def look(dataset, **kwargs):\n",
    "    dataset_name = kwargs['dataset_name']\n",
    "\n",
    "    data = pd.DataFrame(dataset.data, columns=dataset.feature_names)\n",
    "    target = pd.DataFrame(dataset.target)\n",
    "    target_category = dataset.target_names\n",
    "\n",
    "    print_title(f'{dataset_name} 데이터 정보')\n",
    "    print(\"1. shape:\", data.shape)\n",
    "    print(\"\\n2. info:\")\n",
    "    print(data.info())\n",
    "    print(\"\\n3. sample:\\n\", data.sample(3, random_state=40))\n",
    "    print()\n",
    "\n",
    "    print_title(f'{dataset_name} 타겟 정보')\n",
    "    print(\"1. shape:\", target.shape)\n",
    "    print(\"\\n2. category:\", target_category)\n",
    "    print(\"\\n3. info:\")\n",
    "    print(target.info())\n",
    "    print(\"\\n4. sample:\\n\", target.sample(3, random_state=40))\n",
    "    print()\n"
   ],
   "metadata": {
    "collapsed": false,
    "pycharm": {
     "name": "#%%\n"
    }
   }
  },
  {
   "cell_type": "markdown",
   "source": [
    "## 데이터셋 분리하기\n",
    "\n",
    "train_test_split() 함수를 사용해서 훈련용과 테스트용 데이터 분리"
   ],
   "metadata": {
    "collapsed": false,
    "pycharm": {
     "name": "#%% md\n"
    }
   }
  },
  {
   "cell_type": "code",
   "source": [
    "from sklearn.model_selection import train_test_split\n",
    "\n",
    "def split(dataset, test_size = 0.2, verbose=False):\n",
    "    data_train, data_test, target_train, target_test = train_test_split(\n",
    "        dataset.data, dataset.target, test_size=test_size, random_state=10)\n",
    "\n",
    "    if verbose:\n",
    "        print_title('데이터셋 분리 (훈련용/테스트용)')\n",
    "        print('학습 데이터: {}개, 학습 타겟: {}개'.format(len(data_train), len(target_train)))\n",
    "        print('테스트 데이터: {}개, 테스트 타겟: {}개'.format(len(data_test), len(target_test)))\n",
    "        print()\n",
    "\n",
    "    return data_train, data_test, target_train, target_test"
   ],
   "metadata": {
    "collapsed": false,
    "pycharm": {
     "name": "#%%\n"
    }
   },
   "execution_count": null,
   "outputs": []
  },
  {
   "cell_type": "markdown",
   "source": [
    "## 모델 학습하기\n",
    "\n",
    "학습용 데이터를 사용하여 모델 학습"
   ],
   "metadata": {
    "collapsed": false,
    "pycharm": {
     "name": "#%% md\n"
    }
   }
  },
  {
   "cell_type": "code",
   "execution_count": 452,
   "outputs": [],
   "source": [
    "def learn(model, data_train, target_train):\n",
    "    model.fit(data_train, target_train)"
   ],
   "metadata": {
    "collapsed": false,
    "pycharm": {
     "name": "#%%\n"
    }
   }
  },
  {
   "cell_type": "markdown",
   "source": [
    "## 모델 평가하기\n",
    "\n",
    "테스트용 데이터를 사용하여 모델 평가\n",
    "\n",
    "정확도(`accuracy`)를 평가지표로 사용함."
   ],
   "metadata": {
    "collapsed": false,
    "pycharm": {
     "name": "#%% md\n"
    }
   }
  },
  {
   "cell_type": "code",
   "execution_count": 453,
   "outputs": [],
   "source": [
    "from sklearn.metrics import accuracy_score, classification_report\n",
    "\n",
    "def estimate(model, data_test, target_test, model_name=\"\", verbose=False):\n",
    "    target_pred = model.predict(data_test)\n",
    "\n",
    "    accuracy = accuracy_score(target_test, target_pred)\n",
    "    report = classification_report(target_test, target_pred)\n",
    "\n",
    "    print_title('{} 모델 평가'.format(model_name))\n",
    "\n",
    "    print('정확도:', accuracy)\n",
    "    if verbose: print('상세 리포트:\\n', report)"
   ],
   "metadata": {
    "collapsed": false,
    "pycharm": {
     "name": "#%%\n"
    }
   }
  },
  {
   "cell_type": "markdown",
   "source": [
    "## 숫자 데이터셋 학습"
   ],
   "metadata": {
    "collapsed": false
   }
  },
  {
   "cell_type": "code",
   "execution_count": 456,
   "outputs": [
    {
     "name": "stdout",
     "output_type": "stream",
     "text": [
      "===== Digits 데이터 정보 =====\n",
      "1. shape: (1797, 64)\n",
      "\n",
      "2. info:\n",
      "<class 'pandas.core.frame.DataFrame'>\n",
      "RangeIndex: 1797 entries, 0 to 1796\n",
      "Data columns (total 64 columns):\n",
      " #   Column     Non-Null Count  Dtype  \n",
      "---  ------     --------------  -----  \n",
      " 0   pixel_0_0  1797 non-null   float64\n",
      " 1   pixel_0_1  1797 non-null   float64\n",
      " 2   pixel_0_2  1797 non-null   float64\n",
      " 3   pixel_0_3  1797 non-null   float64\n",
      " 4   pixel_0_4  1797 non-null   float64\n",
      " 5   pixel_0_5  1797 non-null   float64\n",
      " 6   pixel_0_6  1797 non-null   float64\n",
      " 7   pixel_0_7  1797 non-null   float64\n",
      " 8   pixel_1_0  1797 non-null   float64\n",
      " 9   pixel_1_1  1797 non-null   float64\n",
      " 10  pixel_1_2  1797 non-null   float64\n",
      " 11  pixel_1_3  1797 non-null   float64\n",
      " 12  pixel_1_4  1797 non-null   float64\n",
      " 13  pixel_1_5  1797 non-null   float64\n",
      " 14  pixel_1_6  1797 non-null   float64\n",
      " 15  pixel_1_7  1797 non-null   float64\n",
      " 16  pixel_2_0  1797 non-null   float64\n",
      " 17  pixel_2_1  1797 non-null   float64\n",
      " 18  pixel_2_2  1797 non-null   float64\n",
      " 19  pixel_2_3  1797 non-null   float64\n",
      " 20  pixel_2_4  1797 non-null   float64\n",
      " 21  pixel_2_5  1797 non-null   float64\n",
      " 22  pixel_2_6  1797 non-null   float64\n",
      " 23  pixel_2_7  1797 non-null   float64\n",
      " 24  pixel_3_0  1797 non-null   float64\n",
      " 25  pixel_3_1  1797 non-null   float64\n",
      " 26  pixel_3_2  1797 non-null   float64\n",
      " 27  pixel_3_3  1797 non-null   float64\n",
      " 28  pixel_3_4  1797 non-null   float64\n",
      " 29  pixel_3_5  1797 non-null   float64\n",
      " 30  pixel_3_6  1797 non-null   float64\n",
      " 31  pixel_3_7  1797 non-null   float64\n",
      " 32  pixel_4_0  1797 non-null   float64\n",
      " 33  pixel_4_1  1797 non-null   float64\n",
      " 34  pixel_4_2  1797 non-null   float64\n",
      " 35  pixel_4_3  1797 non-null   float64\n",
      " 36  pixel_4_4  1797 non-null   float64\n",
      " 37  pixel_4_5  1797 non-null   float64\n",
      " 38  pixel_4_6  1797 non-null   float64\n",
      " 39  pixel_4_7  1797 non-null   float64\n",
      " 40  pixel_5_0  1797 non-null   float64\n",
      " 41  pixel_5_1  1797 non-null   float64\n",
      " 42  pixel_5_2  1797 non-null   float64\n",
      " 43  pixel_5_3  1797 non-null   float64\n",
      " 44  pixel_5_4  1797 non-null   float64\n",
      " 45  pixel_5_5  1797 non-null   float64\n",
      " 46  pixel_5_6  1797 non-null   float64\n",
      " 47  pixel_5_7  1797 non-null   float64\n",
      " 48  pixel_6_0  1797 non-null   float64\n",
      " 49  pixel_6_1  1797 non-null   float64\n",
      " 50  pixel_6_2  1797 non-null   float64\n",
      " 51  pixel_6_3  1797 non-null   float64\n",
      " 52  pixel_6_4  1797 non-null   float64\n",
      " 53  pixel_6_5  1797 non-null   float64\n",
      " 54  pixel_6_6  1797 non-null   float64\n",
      " 55  pixel_6_7  1797 non-null   float64\n",
      " 56  pixel_7_0  1797 non-null   float64\n",
      " 57  pixel_7_1  1797 non-null   float64\n",
      " 58  pixel_7_2  1797 non-null   float64\n",
      " 59  pixel_7_3  1797 non-null   float64\n",
      " 60  pixel_7_4  1797 non-null   float64\n",
      " 61  pixel_7_5  1797 non-null   float64\n",
      " 62  pixel_7_6  1797 non-null   float64\n",
      " 63  pixel_7_7  1797 non-null   float64\n",
      "dtypes: float64(64)\n",
      "memory usage: 898.6 KB\n",
      "None\n",
      "\n",
      "3. sample:\n",
      "       pixel_0_0  pixel_0_1  pixel_0_2  pixel_0_3  pixel_0_4  pixel_0_5  \\\n",
      "352         0.0        0.0        3.0       10.0       12.0       12.0   \n",
      "1120        0.0        0.0        1.0       11.0       14.0        5.0   \n",
      "511         0.0        0.0        2.0       10.0       16.0       10.0   \n",
      "\n",
      "      pixel_0_6  pixel_0_7  pixel_1_0  pixel_1_1  ...  pixel_6_6  pixel_6_7  \\\n",
      "352         2.0        0.0        0.0        1.0  ...        0.0        0.0   \n",
      "1120        0.0        0.0        0.0        0.0  ...        0.0        0.0   \n",
      "511         0.0        0.0        0.0        0.0  ...        1.0        0.0   \n",
      "\n",
      "      pixel_7_0  pixel_7_1  pixel_7_2  pixel_7_3  pixel_7_4  pixel_7_5  \\\n",
      "352         0.0        0.0        9.0       16.0       15.0        3.0   \n",
      "1120        0.0        0.0        2.0       13.0       16.0        9.0   \n",
      "511         0.0        0.0        3.0       12.0       13.0        4.0   \n",
      "\n",
      "      pixel_7_6  pixel_7_7  \n",
      "352         0.0        0.0  \n",
      "1120        0.0        0.0  \n",
      "511         0.0        0.0  \n",
      "\n",
      "[3 rows x 64 columns]\n",
      "\n",
      "===== Digits 타겟 정보 =====\n",
      "1. shape: (1797, 1)\n",
      "\n",
      "2. category: [0 1 2 3 4 5 6 7 8 9]\n",
      "\n",
      "3. info:\n",
      "<class 'pandas.core.frame.DataFrame'>\n",
      "RangeIndex: 1797 entries, 0 to 1796\n",
      "Data columns (total 1 columns):\n",
      " #   Column  Non-Null Count  Dtype\n",
      "---  ------  --------------  -----\n",
      " 0   0       1797 non-null   int64\n",
      "dtypes: int64(1)\n",
      "memory usage: 14.2 KB\n",
      "None\n",
      "\n",
      "4. sample:\n",
      "       0\n",
      "352   8\n",
      "1120  1\n",
      "511   9\n",
      "\n",
      "===== 데이터셋 분리 (훈련용/테스트용) =====\n",
      "학습 데이터: 1437개, 학습 타겟: 1437개\n",
      "테스트 데이터: 360개, 테스트 타겟: 360개\n",
      "\n",
      "===== DecisionTreeClassifier 모델 평가 =====\n",
      "정확도: 0.8472222222222222\n",
      "===== RandomForestClassifier 모델 평가 =====\n",
      "정확도: 0.9583333333333334\n",
      "===== SupportVectorMachine 모델 평가 =====\n",
      "정확도: 0.9833333333333333\n",
      "===== SGDClassifier 모델 평가 =====\n",
      "정확도: 0.95\n",
      "===== LogisticRegression 모델 평가 =====\n",
      "정확도: 0.9527777777777777\n"
     ]
    }
   ],
   "source": [
    "from sklearn.datasets import load_digits\n",
    "\n",
    "dataset = load_digits()\n",
    "look(dataset, dataset_name=\"Digits\")\n",
    "data_train, data_test, target_train, target_test = split(dataset, verbose=True)\n",
    "\n",
    "models = get_common_models()\n",
    "# 로지스틱 회귀 실행 시, 특정 개수 이상의 데이터는 iteration 제한값을 늘려야 경고 메시지가 뜨지 않는다.\n",
    "models['LogisticRegression'] = LogisticRegression(max_iter=3600)\n",
    "\n",
    "for model_name, model in models.items():\n",
    "    learn(model, data_train, target_train)\n",
    "    estimate(model, data_test, target_test, model_name=model_name)"
   ],
   "metadata": {
    "collapsed": false,
    "pycharm": {
     "name": "#%%\n"
    }
   }
  },
  {
   "cell_type": "markdown",
   "source": [
    "## 와인 데이터셋 학습"
   ],
   "metadata": {
    "collapsed": false,
    "pycharm": {
     "name": "#%% md\n"
    }
   }
  },
  {
   "cell_type": "code",
   "execution_count": 455,
   "outputs": [
    {
     "name": "stdout",
     "output_type": "stream",
     "text": [
      "===== Wine 데이터 정보 =====\n",
      "1. shape: (178, 13)\n",
      "\n",
      "2. info:\n",
      "<class 'pandas.core.frame.DataFrame'>\n",
      "RangeIndex: 178 entries, 0 to 177\n",
      "Data columns (total 13 columns):\n",
      " #   Column                        Non-Null Count  Dtype  \n",
      "---  ------                        --------------  -----  \n",
      " 0   alcohol                       178 non-null    float64\n",
      " 1   malic_acid                    178 non-null    float64\n",
      " 2   ash                           178 non-null    float64\n",
      " 3   alcalinity_of_ash             178 non-null    float64\n",
      " 4   magnesium                     178 non-null    float64\n",
      " 5   total_phenols                 178 non-null    float64\n",
      " 6   flavanoids                    178 non-null    float64\n",
      " 7   nonflavanoid_phenols          178 non-null    float64\n",
      " 8   proanthocyanins               178 non-null    float64\n",
      " 9   color_intensity               178 non-null    float64\n",
      " 10  hue                           178 non-null    float64\n",
      " 11  od280/od315_of_diluted_wines  178 non-null    float64\n",
      " 12  proline                       178 non-null    float64\n",
      "dtypes: float64(13)\n",
      "memory usage: 18.2 KB\n",
      "None\n",
      "\n",
      "3. sample:\n",
      "      alcohol  malic_acid   ash  alcalinity_of_ash  magnesium  total_phenols  \\\n",
      "127    11.79        2.13  2.78               28.5       92.0           2.13   \n",
      "5      14.20        1.76  2.45               15.2      112.0           3.27   \n",
      "52     13.82        1.75  2.42               14.0      111.0           3.88   \n",
      "\n",
      "     flavanoids  nonflavanoid_phenols  proanthocyanins  color_intensity   hue  \\\n",
      "127        2.24                  0.58             1.76             3.00  0.97   \n",
      "5          3.39                  0.34             1.97             6.75  1.05   \n",
      "52         3.74                  0.32             1.87             7.05  1.01   \n",
      "\n",
      "     od280/od315_of_diluted_wines  proline  \n",
      "127                          2.44    466.0  \n",
      "5                            2.85   1450.0  \n",
      "52                           3.26   1190.0  \n",
      "\n",
      "===== Wine 타겟 정보 =====\n",
      "1. shape: (178, 1)\n",
      "\n",
      "2. category: ['class_0' 'class_1' 'class_2']\n",
      "\n",
      "3. info:\n",
      "<class 'pandas.core.frame.DataFrame'>\n",
      "RangeIndex: 178 entries, 0 to 177\n",
      "Data columns (total 1 columns):\n",
      " #   Column  Non-Null Count  Dtype\n",
      "---  ------  --------------  -----\n",
      " 0   0       178 non-null    int64\n",
      "dtypes: int64(1)\n",
      "memory usage: 1.5 KB\n",
      "None\n",
      "\n",
      "4. sample:\n",
      "      0\n",
      "127  1\n",
      "5    0\n",
      "52   0\n",
      "\n",
      "===== 데이터셋 분리 (훈련용/테스트용) =====\n",
      "학습 데이터: 142개, 학습 타겟: 142개\n",
      "테스트 데이터: 36개, 테스트 타겟: 36개\n",
      "\n",
      "===== DecisionTreeClassifier 모델 평가 =====\n",
      "정확도: 0.9444444444444444\n",
      "===== RandomForestClassifier 모델 평가 =====\n",
      "정확도: 0.9444444444444444\n",
      "===== SupportVectorMachine 모델 평가 =====\n",
      "정확도: 0.6944444444444444\n",
      "===== SGDClassifier 모델 평가 =====\n",
      "정확도: 0.5555555555555556\n",
      "===== LogisticRegression 모델 평가 =====\n",
      "정확도: 0.9166666666666666\n"
     ]
    },
    {
     "name": "stderr",
     "output_type": "stream",
     "text": [
      "/Users/me/miniforge3/envs/aiffel-exp/lib/python3.9/site-packages/sklearn/metrics/_classification.py:1308: UndefinedMetricWarning: Precision and F-score are ill-defined and being set to 0.0 in labels with no predicted samples. Use `zero_division` parameter to control this behavior.\n",
      "  _warn_prf(average, modifier, msg_start, len(result))\n",
      "/Users/me/miniforge3/envs/aiffel-exp/lib/python3.9/site-packages/sklearn/metrics/_classification.py:1308: UndefinedMetricWarning: Precision and F-score are ill-defined and being set to 0.0 in labels with no predicted samples. Use `zero_division` parameter to control this behavior.\n",
      "  _warn_prf(average, modifier, msg_start, len(result))\n",
      "/Users/me/miniforge3/envs/aiffel-exp/lib/python3.9/site-packages/sklearn/metrics/_classification.py:1308: UndefinedMetricWarning: Precision and F-score are ill-defined and being set to 0.0 in labels with no predicted samples. Use `zero_division` parameter to control this behavior.\n",
      "  _warn_prf(average, modifier, msg_start, len(result))\n",
      "/Users/me/miniforge3/envs/aiffel-exp/lib/python3.9/site-packages/sklearn/linear_model/_logistic.py:814: ConvergenceWarning: lbfgs failed to converge (status=1):\n",
      "STOP: TOTAL NO. of ITERATIONS REACHED LIMIT.\n",
      "\n",
      "Increase the number of iterations (max_iter) or scale the data as shown in:\n",
      "    https://scikit-learn.org/stable/modules/preprocessing.html\n",
      "Please also refer to the documentation for alternative solver options:\n",
      "    https://scikit-learn.org/stable/modules/linear_model.html#logistic-regression\n",
      "  n_iter_i = _check_optimize_result(\n"
     ]
    }
   ],
   "source": [
    "from sklearn.datasets import load_wine\n",
    "\n",
    "dataset = load_wine()\n",
    "look(dataset, dataset_name=\"Wine\")\n",
    "data_train, data_test, target_train, target_test = split(dataset, verbose=True)\n",
    "\n",
    "models = get_common_models()\n",
    "models['LogisticRegression'] = LogisticRegression(max_iter=600)\n",
    "\n",
    "for model_name, model in models.items():\n",
    "    learn(model, data_train, target_train)\n",
    "    estimate(model, data_test, target_test, model_name=model_name)\n",
    "\n",
    "# 모델을 평가할 때, 경고 메시지가 발생하는 이유는 예측 데이터에는 없는 테스트 데이터가 있기 때문이다.\n",
    "# - https://stackoverflow.com/a/47285662"
   ],
   "metadata": {
    "collapsed": false,
    "pycharm": {
     "name": "#%%\n"
    }
   }
  },
  {
   "cell_type": "markdown",
   "source": [
    "## 유방암 데이터셋 학습"
   ],
   "metadata": {
    "collapsed": false,
    "pycharm": {
     "name": "#%% md\n"
    }
   }
  },
  {
   "cell_type": "code",
   "execution_count": 427,
   "outputs": [
    {
     "name": "stdout",
     "output_type": "stream",
     "text": [
      "===== Breast Cancer 데이터 정보 =====\n",
      "1. shape: (569, 30)\n",
      "\n",
      "2. info:\n",
      "<class 'pandas.core.frame.DataFrame'>\n",
      "RangeIndex: 569 entries, 0 to 568\n",
      "Data columns (total 30 columns):\n",
      " #   Column                   Non-Null Count  Dtype  \n",
      "---  ------                   --------------  -----  \n",
      " 0   mean radius              569 non-null    float64\n",
      " 1   mean texture             569 non-null    float64\n",
      " 2   mean perimeter           569 non-null    float64\n",
      " 3   mean area                569 non-null    float64\n",
      " 4   mean smoothness          569 non-null    float64\n",
      " 5   mean compactness         569 non-null    float64\n",
      " 6   mean concavity           569 non-null    float64\n",
      " 7   mean concave points      569 non-null    float64\n",
      " 8   mean symmetry            569 non-null    float64\n",
      " 9   mean fractal dimension   569 non-null    float64\n",
      " 10  radius error             569 non-null    float64\n",
      " 11  texture error            569 non-null    float64\n",
      " 12  perimeter error          569 non-null    float64\n",
      " 13  area error               569 non-null    float64\n",
      " 14  smoothness error         569 non-null    float64\n",
      " 15  compactness error        569 non-null    float64\n",
      " 16  concavity error          569 non-null    float64\n",
      " 17  concave points error     569 non-null    float64\n",
      " 18  symmetry error           569 non-null    float64\n",
      " 19  fractal dimension error  569 non-null    float64\n",
      " 20  worst radius             569 non-null    float64\n",
      " 21  worst texture            569 non-null    float64\n",
      " 22  worst perimeter          569 non-null    float64\n",
      " 23  worst area               569 non-null    float64\n",
      " 24  worst smoothness         569 non-null    float64\n",
      " 25  worst compactness        569 non-null    float64\n",
      " 26  worst concavity          569 non-null    float64\n",
      " 27  worst concave points     569 non-null    float64\n",
      " 28  worst symmetry           569 non-null    float64\n",
      " 29  worst fractal dimension  569 non-null    float64\n",
      "dtypes: float64(30)\n",
      "memory usage: 133.5 KB\n",
      "None\n",
      "\n",
      "3. sample:\n",
      "      mean radius  mean texture  mean perimeter  mean area  mean smoothness  \\\n",
      "295        13.77         13.27           88.06      582.7          0.09198   \n",
      "16         14.68         20.13           94.74      684.5          0.09867   \n",
      "431        12.40         17.68           81.47      467.8          0.10540   \n",
      "\n",
      "     mean compactness  mean concavity  mean concave points  mean symmetry  \\\n",
      "295           0.06221         0.01063              0.01917         0.1592   \n",
      "16            0.07200         0.07395              0.05259         0.1586   \n",
      "431           0.13160         0.07741              0.02799         0.1811   \n",
      "\n",
      "     mean fractal dimension  ...  worst radius  worst texture  \\\n",
      "295                 0.05912  ...         14.67          16.93   \n",
      "16                  0.05922  ...         19.07          30.88   \n",
      "431                 0.07102  ...         12.88          22.91   \n",
      "\n",
      "     worst perimeter  worst area  worst smoothness  worst compactness  \\\n",
      "295            94.17       661.1            0.1170             0.1072   \n",
      "16            123.40      1138.0            0.1464             0.1871   \n",
      "431            89.61       515.8            0.1450             0.2629   \n",
      "\n",
      "     worst concavity  worst concave points  worst symmetry  \\\n",
      "295          0.03732               0.05802          0.2823   \n",
      "16           0.29140               0.16090          0.3029   \n",
      "431          0.24030               0.07370          0.2556   \n",
      "\n",
      "     worst fractal dimension  \n",
      "295                  0.06794  \n",
      "16                   0.08216  \n",
      "431                  0.09359  \n",
      "\n",
      "[3 rows x 30 columns]\n",
      "\n",
      "===== Breast Cancer 타겟 정보 =====\n",
      "1. shape: (569, 1)\n",
      "\n",
      "2. category: ['malignant' 'benign']\n",
      "\n",
      "3. info:\n",
      "<class 'pandas.core.frame.DataFrame'>\n",
      "RangeIndex: 569 entries, 0 to 568\n",
      "Data columns (total 1 columns):\n",
      " #   Column  Non-Null Count  Dtype\n",
      "---  ------  --------------  -----\n",
      " 0   0       569 non-null    int64\n",
      "dtypes: int64(1)\n",
      "memory usage: 4.6 KB\n",
      "None\n",
      "\n",
      "4. sample:\n",
      "      0\n",
      "295  1\n",
      "16   0\n",
      "431  1\n",
      "\n",
      "===== 데이터셋 분리 (훈련용/테스트용) =====\n",
      "학습 데이터: 455개, 학습 타겟: 455개\n",
      "테스트 데이터: 114개, 테스트 타겟: 114개\n",
      "\n",
      "===== DecisionTreeClassifier 모델 평가 =====\n",
      "정확도: 0.8947368421052632\n",
      "===== RandomForestClassifier 모델 평가 =====\n",
      "정확도: 0.9824561403508771\n",
      "===== SupportVectorMachine 모델 평가 =====\n",
      "정확도: 0.9210526315789473\n",
      "===== SGDClassifier 모델 평가 =====\n",
      "정확도: 0.8947368421052632\n",
      "===== LogisticRegression 모델 평가 =====\n",
      "정확도: 0.956140350877193\n"
     ]
    }
   ],
   "source": [
    "# 유방암 데이터셋 학습\n",
    "from sklearn.datasets import load_breast_cancer\n",
    "\n",
    "dataset = load_breast_cancer()\n",
    "look(dataset, dataset_name=\"Breast Cancer\")\n",
    "data_train, data_test, target_train, target_test = split(dataset, verbose=True)\n",
    "\n",
    "models = get_common_models()\n",
    "models['LogisticRegression'] = LogisticRegression(max_iter=2200)\n",
    "\n",
    "for model_name, model in models.items():\n",
    "    learn(model, data_train, target_train)\n",
    "    estimate(model, data_test, target_test, model_name=model_name)"
   ],
   "metadata": {
    "collapsed": false,
    "pycharm": {
     "name": "#%%\n"
    }
   }
  }
 ],
 "metadata": {
  "kernelspec": {
   "display_name": "Python 3",
   "language": "python",
   "name": "python3"
  },
  "language_info": {
   "codemirror_mode": {
    "name": "ipython",
    "version": 2
   },
   "file_extension": ".py",
   "mimetype": "text/x-python",
   "name": "python",
   "nbconvert_exporter": "python",
   "pygments_lexer": "ipython2",
   "version": "2.7.6"
  }
 },
 "nbformat": 4,
 "nbformat_minor": 0
}