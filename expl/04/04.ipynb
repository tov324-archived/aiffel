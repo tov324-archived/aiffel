{
 "cells": [
  {
   "cell_type": "code",
   "execution_count": 89,
   "metadata": {
    "collapsed": true
   },
   "outputs": [
    {
     "name": "stdout",
     "output_type": "stream",
     "text": [
      "데이터 크기: 187088\n",
      "Examples:\n",
      " ['', '', 'All of this and more is for you', 'With love, sincerity and deepest care', 'My life with you I share', '', '', 'Ever since I met you, baby', \"I've been wantin' to lay you down\", \"But it's so hard to get you\", 'Baby, when you never come around', 'Every day that you keep it away', 'It only makes me want it more', 'Ooh baby, just say the word', \"And I'll be at your door\", '', 'What more do I have to say?', 'I really wanna play in your river', '', \"Fallin', fallin', fallin' in love\", \"I'm fallin', baby, deeper every day\", '(In love)', \"You're breakin' my heart and takin' me away\", '(In love)', \"I'm fallin' baby, girl, what can I do?\", \"I just can't be without you\", '', 'Ever since I met you, baby', \"There's been somethin' inside of me\", \"That keeps me wantin' you\"]\n"
     ]
    }
   ],
   "source": [
    "import glob\n",
    "import os\n",
    "import re\n",
    "\n",
    "txt_file_path = 'data/lyrics/*'\n",
    "\n",
    "txt_list = glob.glob(txt_file_path)\n",
    "\n",
    "raw_corpus = []\n",
    "\n",
    "# 여러개의 txt 파일을 모두 읽어서 raw_corpus 에 담습니다.\n",
    "for txt_file in txt_list:\n",
    "    with open(txt_file, \"r\") as f:\n",
    "        raw = f.read().splitlines()\n",
    "        raw_corpus.extend(raw)\n",
    "\n",
    "print(\"데이터 크기:\", len(raw_corpus))\n",
    "print(\"Examples:\\n\", raw_corpus[:30])"
   ]
  },
  {
   "cell_type": "code",
   "execution_count": 90,
   "outputs": [
    {
     "name": "stdout",
     "output_type": "stream",
     "text": [
      "<start> this is sample sentence . <end>\n"
     ]
    }
   ],
   "source": [
    "# 입력된 문장을\n",
    "#     1. 소문자로 바꾸고, 양쪽 공백을 지웁니다\n",
    "#     2. 특수문자 양쪽에 공백을 넣고\n",
    "#     3. 여러개의 공백은 하나의 공백으로 바꿉니다\n",
    "#     4. a-zA-Z?.!,¿가 아닌 모든 문자를 하나의 공백으로 바꿉니다\n",
    "#     5. 다시 양쪽 공백을 지웁니다\n",
    "#     6. 문장 시작에는 <start>, 끝에는 <end>를 추가합니다\n",
    "# 이 순서로 처리해주면 문제가 되는 상황을 방지할 수 있겠네요!\n",
    "def preprocess_sentence(sentence):\n",
    "    sentence = sentence.lower().strip() # 1\n",
    "    sentence = re.sub(r\"([?.!,¿])\", r\" \\1 \", sentence) # 2\n",
    "    sentence = re.sub(r'[\" \"]+', \" \", sentence) # 3\n",
    "    sentence = re.sub(r\"[^a-zA-Z?.!,¿]+\", \" \", sentence) # 4\n",
    "    sentence = sentence.strip() # 5\n",
    "    sentence = '<start> ' + sentence + ' <end>' # 6\n",
    "    return sentence\n",
    "\n",
    "# 이 문장이 어떻게 필터링되는지 확인해 보세요.\n",
    "print(preprocess_sentence(\"This @_is ;;;sample        sentence.\"))"
   ],
   "metadata": {
    "collapsed": false,
    "pycharm": {
     "name": "#%%\n"
    }
   }
  },
  {
   "cell_type": "code",
   "execution_count": 91,
   "outputs": [
    {
     "data": {
      "text/plain": "['<start> all of this and more is for you <end>',\n '<start> with love , sincerity and deepest care <end>',\n '<start> my life with you i share <end>',\n '<start> ever since i met you , baby <end>',\n '<start> i ve been wantin to lay you down <end>',\n '<start> but it s so hard to get you <end>',\n '<start> baby , when you never come around <end>',\n '<start> every day that you keep it away <end>',\n '<start> it only makes me want it more <end>',\n '<start> ooh baby , just say the word <end>']"
     },
     "execution_count": 91,
     "metadata": {},
     "output_type": "execute_result"
    }
   ],
   "source": [
    "# 여기에 정제된 문장을 모을겁니다\n",
    "corpus = []\n",
    "\n",
    "for sentence in raw_corpus:\n",
    "    size = len(sentence)\n",
    "    # 우리가 원하지 않는 문장은 건너뜁니다\n",
    "    if size == 0: continue\n",
    "    if len(sentence.split()) > 15: continue\n",
    "\n",
    "    # 정제를 하고 담아주세요\n",
    "    preprocessed_sentence = preprocess_sentence(sentence)\n",
    "    corpus.append(preprocessed_sentence)\n",
    "\n",
    "# 정제된 결과를 10개만 확인해보죠\n",
    "corpus[:10]"
   ],
   "metadata": {
    "collapsed": false,
    "pycharm": {
     "name": "#%%\n"
    }
   }
  },
  {
   "cell_type": "code",
   "execution_count": 94,
   "outputs": [],
   "source": [
    "import tensorflow as tf\n",
    "import numpy as np\n",
    "\n",
    "# 토큰화 할 때 텐서플로우의 Tokenizer와 pad_sequences를 사용합니다\n",
    "# 더 잘 알기 위해 아래 문서들을 참고하면 좋습니다\n",
    "# https://www.tensorflow.org/api_docs/python/tf/keras/preprocessing/text/Tokenizer\n",
    "# https://www.tensorflow.org/api_docs/python/tf/keras/preprocessing/sequence/pad_sequences\n",
    "def tokenize(corpus):\n",
    "    # 7000단어를 기억할 수 있는 tokenizer를 만들겁니다\n",
    "    # 우리는 이미 문장을 정제했으니 filters가 필요없어요\n",
    "    # 7000단어에 포함되지 못한 단어는 '<unk>'로 바꿀거에요\n",
    "    tokenizer = tf.keras.preprocessing.text.Tokenizer(\n",
    "        num_words=12000,\n",
    "        filters=' ',\n",
    "        oov_token=\"<unk>\"\n",
    "    )\n",
    "    # corpus를 이용해 tokenizer 내부의 단어장을 완성합니다\n",
    "    tokenizer.fit_on_texts(corpus)\n",
    "    # 준비한 tokenizer를 이용해 corpus를 Tensor로 변환합니다\n",
    "    tensor = tokenizer.texts_to_sequences(corpus)\n",
    "    # 입력 데이터의 시퀀스 길이를 일정하게 맞춰줍니다\n",
    "    # 만약 시퀀스가 짧다면 문장 뒤에 패딩을 붙여 길이를 맞춰줍니다.\n",
    "    # 문장 앞에 패딩을 붙여 길이를 맞추고 싶다면 padding='pre'를 사용합니다\n",
    "    tensor = tf.keras.preprocessing.sequence.pad_sequences(tensor, padding='post')\n",
    "\n",
    "\n",
    "    # print(tensor,tokenizer)\n",
    "    return tensor, tokenizer\n",
    "\n",
    "tensor, tokenizer = tokenize(corpus)"
   ],
   "metadata": {
    "collapsed": false,
    "pycharm": {
     "name": "#%%\n"
    }
   }
  },
  {
   "cell_type": "code",
   "execution_count": 95,
   "outputs": [
    {
     "name": "stdout",
     "output_type": "stream",
     "text": [
      "[[    2    25    19    42     8    99    26    28     7     3]\n",
      " [    2    31    37     4 10907     8  4580   283     3     0]\n",
      " [    2    13   103    31     7     5  1011     3     0     0]]\n"
     ]
    }
   ],
   "source": [
    "print(tensor[:3, :10])"
   ],
   "metadata": {
    "collapsed": false,
    "pycharm": {
     "name": "#%%\n"
    }
   }
  },
  {
   "cell_type": "code",
   "execution_count": 96,
   "outputs": [
    {
     "name": "stdout",
     "output_type": "stream",
     "text": [
      "(134872, 32) (33718, 32) (134872, 32) (33718, 32)\n"
     ]
    }
   ],
   "source": [
    "from sklearn.model_selection import train_test_split\n",
    "# tensor에서 마지막 토큰을 잘라내서 소스 문장을 생성합니다\n",
    "# 마지막 토큰은 <end>가 아니라 <pad>일 가능성이 높습니다.\n",
    "src_input = tensor[:, :-1]\n",
    "\n",
    "# tensor에서 <start>를 잘라내서 타겟 문장을 생성합니다.\n",
    "tgt_input = tensor[:, 1:]\n",
    "\n",
    "enc_train, enc_val, dec_train, dec_val = train_test_split(src_input, tgt_input, random_state=42, test_size=0.2)\n",
    "\n",
    "print(enc_train.shape, enc_val.shape, dec_train.shape, dec_val.shape)"
   ],
   "metadata": {
    "collapsed": false,
    "pycharm": {
     "name": "#%%\n"
    }
   }
  },
  {
   "cell_type": "code",
   "execution_count": 97,
   "outputs": [],
   "source": [
    "BUFFER_SIZE = len(enc_train)\n",
    "BATCH_SIZE = 256\n",
    "steps_per_epoch = len(enc_train) // BATCH_SIZE\n",
    "\n",
    "# tokenizer가 구축한 단어사전 내 7000개와, 여기 포함되지 않은 0:<pad>를 포함하여 7001개\n",
    "VOCAB_SIZE = tokenizer.num_words + 1\n",
    "\n",
    "# 준비한 데이터 소스로부터 데이터셋을 만듭니다\n",
    "# 데이터셋에 대해서는 아래 문서를 참고하세요\n",
    "# 자세히 알아둘수록 도움이 많이 되는 중요한 문서입니다\n",
    "# https://www.tensorflow.org/api_docs/python/tf/data/Dataset\n",
    "# dataset = tf.data.Dataset.from_tensor_slices((enc_train, dec_train))\n",
    "dataset = tf.data.Dataset.from_tensor_slices((enc_train, dec_train))\n",
    "dataset = dataset.shuffle(BUFFER_SIZE)\n",
    "dataset = dataset.batch(BATCH_SIZE, drop_remainder=True)"
   ],
   "metadata": {
    "collapsed": false,
    "pycharm": {
     "name": "#%%\n"
    }
   }
  },
  {
   "cell_type": "code",
   "execution_count": 98,
   "outputs": [],
   "source": [
    "class TextGenerator(tf.keras.Model):\n",
    "    def __init__(self, vocab_size, embedding_size, hidden_size):\n",
    "        super().__init__()\n",
    "\n",
    "        self.embedding = tf.keras.layers.Embedding(vocab_size, embedding_size)\n",
    "        self.rnn_1 = tf.keras.layers.LSTM(hidden_size, return_sequences=True)\n",
    "        self.rnn_2 = tf.keras.layers.LSTM(hidden_size, return_sequences=True)\n",
    "        self.linear = tf.keras.layers.Dense(vocab_size)\n",
    "\n",
    "    def call(self, x):\n",
    "        out = self.embedding(x)\n",
    "        out = self.rnn_1(out)\n",
    "        out = self.rnn_2(out)\n",
    "        out = self.linear(out)\n",
    "\n",
    "        return out\n",
    "\n",
    "embedding_size = 256\n",
    "hidden_size = 1024\n",
    "model = TextGenerator(tokenizer.num_words + 1, embedding_size , hidden_size)"
   ],
   "metadata": {
    "collapsed": false,
    "pycharm": {
     "name": "#%%\n"
    }
   }
  },
  {
   "cell_type": "code",
   "execution_count": 99,
   "outputs": [
    {
     "data": {
      "text/plain": "<tf.Tensor: shape=(256, 32, 12001), dtype=float32, numpy=\narray([[[ 2.0339833e-04, -1.3113962e-04,  1.8605235e-04, ...,\n          2.0805551e-04, -1.2453410e-04,  1.7848083e-04],\n        [ 3.1596981e-04, -1.8448906e-04,  4.2919844e-04, ...,\n          3.5026073e-04, -8.1933598e-05,  1.2390864e-04],\n        [ 4.3627911e-04, -3.5693723e-04,  6.4603641e-04, ...,\n          2.7645507e-04, -1.6237222e-04, -7.7348450e-05],\n        ...,\n        [ 8.0732588e-04, -1.7483747e-03, -6.0210860e-04, ...,\n          5.5146147e-03,  9.0605096e-04, -2.0381466e-03],\n        [ 8.4172311e-04, -1.7660458e-03, -5.9560913e-04, ...,\n          5.5709886e-03,  9.4084523e-04, -2.0655540e-03],\n        [ 8.7288272e-04, -1.7842633e-03, -5.8699428e-04, ...,\n          5.6134318e-03,  9.6913829e-04, -2.0857281e-03]],\n\n       [[ 2.0339833e-04, -1.3113962e-04,  1.8605235e-04, ...,\n          2.0805551e-04, -1.2453410e-04,  1.7848083e-04],\n        [ 1.5798901e-04,  5.3477863e-05,  4.8102523e-04, ...,\n          2.6325547e-04, -2.4289513e-04,  2.3989036e-05],\n        [ 6.5525659e-05,  8.2759798e-06,  4.9152493e-04, ...,\n          5.2536925e-04, -7.6016629e-05, -3.4849218e-05],\n        ...,\n        [ 9.6717628e-04, -1.8459980e-03, -5.2211771e-04, ...,\n          5.7127308e-03,  1.0606801e-03, -2.0152440e-03],\n        [ 9.8575500e-04, -1.8645226e-03, -5.1191298e-04, ...,\n          5.7119476e-03,  1.0627941e-03, -2.0247633e-03],\n        [ 1.0017385e-03, -1.8809974e-03, -5.0293159e-04, ...,\n          5.7089771e-03,  1.0647990e-03, -2.0314071e-03]],\n\n       [[ 2.0339833e-04, -1.3113962e-04,  1.8605235e-04, ...,\n          2.0805551e-04, -1.2453410e-04,  1.7848083e-04],\n        [ 2.9530818e-05, -2.2704771e-04,  3.6562295e-04, ...,\n          3.2102159e-04, -2.0790516e-04,  6.7065412e-05],\n        [ 2.5937035e-05, -3.6473083e-04,  2.6145027e-04, ...,\n          1.6767738e-04, -3.2537297e-04, -2.4447459e-04],\n        ...,\n        [ 6.0347863e-04, -1.2329442e-03, -5.0333323e-04, ...,\n          5.3094402e-03,  7.0105464e-04, -1.6010429e-03],\n        [ 6.4324937e-04, -1.3109979e-03, -5.3436821e-04, ...,\n          5.4267491e-03,  7.6180376e-04, -1.6957729e-03],\n        [ 6.8416394e-04, -1.3815472e-03, -5.5470673e-04, ...,\n          5.5169119e-03,  8.1310852e-04, -1.7773560e-03]],\n\n       ...,\n\n       [[ 2.0339833e-04, -1.3113962e-04,  1.8605235e-04, ...,\n          2.0805551e-04, -1.2453410e-04,  1.7848083e-04],\n        [ 4.1812862e-05, -1.5384110e-04,  2.7745136e-05, ...,\n          3.7593875e-04, -3.7906793e-04,  2.2032228e-04],\n        [-3.5013215e-04, -4.7833653e-04,  8.6556887e-05, ...,\n          3.1206454e-04, -8.8329951e-04,  8.3449057e-05],\n        ...,\n        [ 9.1148820e-04, -1.7742136e-03, -5.5636361e-04, ...,\n          5.7163080e-03,  1.0217227e-03, -2.0020120e-03],\n        [ 9.3433028e-04, -1.7965112e-03, -5.4283801e-04, ...,\n          5.7173995e-03,  1.0350310e-03, -2.0160985e-03],\n        [ 9.5483742e-04, -1.8173896e-03, -5.3053646e-04, ...,\n          5.7157106e-03,  1.0457246e-03, -2.0266972e-03]],\n\n       [[ 2.0339833e-04, -1.3113962e-04,  1.8605235e-04, ...,\n          2.0805551e-04, -1.2453410e-04,  1.7848083e-04],\n        [ 6.2421639e-04, -4.5905359e-05,  2.9279210e-04, ...,\n          2.4522311e-04,  2.2130462e-04,  1.0303497e-04],\n        [ 9.0134999e-04,  1.9034858e-04,  6.8861053e-05, ...,\n          2.8493768e-04,  1.9506749e-04, -1.9123324e-04],\n        ...,\n        [ 8.9230307e-04, -1.6840321e-03, -5.5655610e-04, ...,\n          5.6584510e-03,  9.5173152e-04, -2.0322748e-03],\n        [ 9.1988745e-04, -1.7178877e-03, -5.4501742e-04, ...,\n          5.6792684e-03,  9.7331597e-04, -2.0466293e-03],\n        [ 9.4428490e-04, -1.7492289e-03, -5.3340878e-04, ...,\n          5.6931209e-03,  9.9177507e-04, -2.0570108e-03]],\n\n       [[ 2.0339833e-04, -1.3113962e-04,  1.8605235e-04, ...,\n          2.0805551e-04, -1.2453410e-04,  1.7848083e-04],\n        [ 2.1180806e-04, -3.8537409e-04,  1.5234307e-04, ...,\n          1.5301400e-04,  6.4731343e-05,  1.8122590e-04],\n        [ 3.8028328e-04, -3.4776516e-04, -1.3578418e-04, ...,\n          4.1344893e-04,  3.0583059e-04,  3.8090075e-04],\n        ...,\n        [ 6.6148618e-04, -1.3710804e-03, -2.2817857e-04, ...,\n          4.9769934e-03,  5.2727055e-04, -1.5691069e-03],\n        [ 6.8041024e-04, -1.4121626e-03, -2.8898224e-04, ...,\n          5.1768515e-03,  6.1568076e-04, -1.6409567e-03],\n        [ 7.0244051e-04, -1.4533488e-03, -3.3795682e-04, ...,\n          5.3353058e-03,  6.9280120e-04, -1.7092626e-03]]], dtype=float32)>"
     },
     "execution_count": 99,
     "metadata": {},
     "output_type": "execute_result"
    }
   ],
   "source": [
    "# 데이터셋에서 데이터 한 배치만 불러오는 방법입니다.\n",
    "# 지금은 동작 원리에 너무 빠져들지 마세요~\n",
    "for src_sample, tgt_sample in dataset.take(1): break\n",
    "\n",
    "# 한 배치만 불러온 데이터를 모델에 넣어봅니다\n",
    "model(src_sample)"
   ],
   "metadata": {
    "collapsed": false,
    "pycharm": {
     "name": "#%%\n"
    }
   }
  },
  {
   "cell_type": "code",
   "execution_count": 100,
   "outputs": [
    {
     "name": "stdout",
     "output_type": "stream",
     "text": [
      "Model: \"text_generator_6\"\n",
      "_________________________________________________________________\n",
      "Layer (type)                 Output Shape              Param #   \n",
      "=================================================================\n",
      "embedding_6 (Embedding)      multiple                  3072256   \n",
      "_________________________________________________________________\n",
      "lstm_12 (LSTM)               multiple                  5246976   \n",
      "_________________________________________________________________\n",
      "lstm_13 (LSTM)               multiple                  8392704   \n",
      "_________________________________________________________________\n",
      "dense_6 (Dense)              multiple                  12301025  \n",
      "=================================================================\n",
      "Total params: 29,012,961\n",
      "Trainable params: 29,012,961\n",
      "Non-trainable params: 0\n",
      "_________________________________________________________________\n"
     ]
    }
   ],
   "source": [
    "model.summary()"
   ],
   "metadata": {
    "collapsed": false,
    "pycharm": {
     "name": "#%%\n"
    }
   }
  },
  {
   "cell_type": "code",
   "execution_count": 101,
   "outputs": [
    {
     "name": "stdout",
     "output_type": "stream",
     "text": [
      "Epoch 1/30\n"
     ]
    },
    {
     "ename": "NotImplementedError",
     "evalue": "in user code:\n\n    /Users/me/miniforge3/envs/hongong/lib/python3.9/site-packages/tensorflow/python/keras/engine/training.py:805 train_function  *\n        return step_function(self, iterator)\n    <ipython-input-66-8cc0fe026c72>:12 call  *\n        out = self.rnn_1(out)\n    /Users/me/miniforge3/envs/hongong/lib/python3.9/site-packages/tensorflow/python/keras/layers/recurrent.py:660 __call__  **\n        \n    /Users/me/miniforge3/envs/hongong/lib/python3.9/site-packages/tensorflow/python/keras/engine/base_layer.py:1012 __call__\n        \n    /Users/me/miniforge3/envs/hongong/lib/python3.9/site-packages/tensorflow/python/keras/layers/recurrent_v2.py:1157 call\n        \n    /Users/me/miniforge3/envs/hongong/lib/python3.9/site-packages/tensorflow/python/keras/layers/recurrent.py:859 _process_inputs\n        \n    /Users/me/miniforge3/envs/hongong/lib/python3.9/site-packages/tensorflow/python/keras/layers/recurrent.py:642 get_initial_state\n        \n    /Users/me/miniforge3/envs/hongong/lib/python3.9/site-packages/tensorflow/python/keras/layers/recurrent.py:2506 get_initial_state\n        \n    /Users/me/miniforge3/envs/hongong/lib/python3.9/site-packages/tensorflow/python/keras/layers/recurrent.py:2987 _generate_zero_filled_state_for_cell\n        \n    /Users/me/miniforge3/envs/hongong/lib/python3.9/site-packages/tensorflow/python/keras/layers/recurrent.py:3003 _generate_zero_filled_state\n        \n    /Users/me/miniforge3/envs/hongong/lib/python3.9/site-packages/tensorflow/python/util/nest.py:659 map_structure\n        \n    /Users/me/miniforge3/envs/hongong/lib/python3.9/site-packages/tensorflow/python/util/nest.py:659 <listcomp>\n        \n    /Users/me/miniforge3/envs/hongong/lib/python3.9/site-packages/tensorflow/python/keras/layers/recurrent.py:3000 create_zeros\n        \n    /Users/me/miniforge3/envs/hongong/lib/python3.9/site-packages/tensorflow/python/util/dispatch.py:201 wrapper\n        \n    /Users/me/miniforge3/envs/hongong/lib/python3.9/site-packages/tensorflow/python/ops/array_ops.py:2819 wrapped\n        \n    /Users/me/miniforge3/envs/hongong/lib/python3.9/site-packages/tensorflow/python/ops/array_ops.py:2868 zeros\n        \n    /Users/me/miniforge3/envs/hongong/lib/python3.9/site-packages/tensorflow/python/ops/array_ops.py:2804 _constant_if_small\n        \n    <__array_function__ internals>:5 prod\n        \n    /Users/me/miniforge3/envs/hongong/lib/python3.9/site-packages/numpy/core/fromnumeric.py:3030 prod\n        return _wrapreduction(a, np.multiply, 'prod', axis, dtype, out,\n    /Users/me/miniforge3/envs/hongong/lib/python3.9/site-packages/numpy/core/fromnumeric.py:87 _wrapreduction\n        return ufunc.reduce(obj, axis, dtype, out, **passkwargs)\n    /Users/me/miniforge3/envs/hongong/lib/python3.9/site-packages/tensorflow/python/framework/ops.py:852 __array__\n        \n\n    NotImplementedError: Cannot convert a symbolic Tensor (text_generator_6/lstm_12/strided_slice:0) to a numpy array. This error may indicate that you're trying to pass a Tensor to a NumPy call, which is not supported\n",
     "output_type": "error",
     "traceback": [
      "\u001B[0;31m---------------------------------------------------------------------------\u001B[0m",
      "\u001B[0;31mNotImplementedError\u001B[0m                       Traceback (most recent call last)",
      "\u001B[0;32m<ipython-input-101-9c6a336e424b>\u001B[0m in \u001B[0;36m<module>\u001B[0;34m\u001B[0m\n\u001B[1;32m      6\u001B[0m \u001B[0;34m\u001B[0m\u001B[0m\n\u001B[1;32m      7\u001B[0m \u001B[0mmodel\u001B[0m\u001B[0;34m.\u001B[0m\u001B[0mcompile\u001B[0m\u001B[0;34m(\u001B[0m\u001B[0mloss\u001B[0m\u001B[0;34m=\u001B[0m\u001B[0mloss\u001B[0m\u001B[0;34m,\u001B[0m \u001B[0moptimizer\u001B[0m\u001B[0;34m=\u001B[0m\u001B[0moptimizer\u001B[0m\u001B[0;34m)\u001B[0m\u001B[0;34m\u001B[0m\u001B[0;34m\u001B[0m\u001B[0m\n\u001B[0;32m----> 8\u001B[0;31m \u001B[0mmodel\u001B[0m\u001B[0;34m.\u001B[0m\u001B[0mfit\u001B[0m\u001B[0;34m(\u001B[0m\u001B[0mdataset\u001B[0m\u001B[0;34m,\u001B[0m \u001B[0mepochs\u001B[0m\u001B[0;34m=\u001B[0m\u001B[0;36m30\u001B[0m\u001B[0;34m)\u001B[0m\u001B[0;34m\u001B[0m\u001B[0;34m\u001B[0m\u001B[0m\n\u001B[0m",
      "\u001B[0;32m~/miniforge3/envs/hongong/lib/python3.9/site-packages/tensorflow/python/keras/engine/training.py\u001B[0m in \u001B[0;36mfit\u001B[0;34m(self, x, y, batch_size, epochs, verbose, callbacks, validation_split, validation_data, shuffle, class_weight, sample_weight, initial_epoch, steps_per_epoch, validation_steps, validation_batch_size, validation_freq, max_queue_size, workers, use_multiprocessing)\u001B[0m\n",
      "\u001B[0;32m~/miniforge3/envs/hongong/lib/python3.9/site-packages/tensorflow/python/eager/def_function.py\u001B[0m in \u001B[0;36m__call__\u001B[0;34m(self, *args, **kwds)\u001B[0m\n",
      "\u001B[0;32m~/miniforge3/envs/hongong/lib/python3.9/site-packages/tensorflow/python/eager/def_function.py\u001B[0m in \u001B[0;36m_call\u001B[0;34m(self, *args, **kwds)\u001B[0m\n",
      "\u001B[0;32m~/miniforge3/envs/hongong/lib/python3.9/site-packages/tensorflow/python/eager/def_function.py\u001B[0m in \u001B[0;36m_initialize\u001B[0;34m(self, args, kwds, add_initializers_to)\u001B[0m\n",
      "\u001B[0;32m~/miniforge3/envs/hongong/lib/python3.9/site-packages/tensorflow/python/eager/function.py\u001B[0m in \u001B[0;36m_get_concrete_function_internal_garbage_collected\u001B[0;34m(self, *args, **kwargs)\u001B[0m\n",
      "\u001B[0;32m~/miniforge3/envs/hongong/lib/python3.9/site-packages/tensorflow/python/eager/function.py\u001B[0m in \u001B[0;36m_maybe_define_function\u001B[0;34m(self, args, kwargs)\u001B[0m\n",
      "\u001B[0;32m~/miniforge3/envs/hongong/lib/python3.9/site-packages/tensorflow/python/eager/function.py\u001B[0m in \u001B[0;36m_create_graph_function\u001B[0;34m(self, args, kwargs, override_flat_arg_shapes)\u001B[0m\n",
      "\u001B[0;32m~/miniforge3/envs/hongong/lib/python3.9/site-packages/tensorflow/python/framework/func_graph.py\u001B[0m in \u001B[0;36mfunc_graph_from_py_func\u001B[0;34m(name, python_func, args, kwargs, signature, func_graph, autograph, autograph_options, add_control_dependencies, arg_names, op_return_value, collections, capture_by_value, override_flat_arg_shapes)\u001B[0m\n",
      "\u001B[0;32m~/miniforge3/envs/hongong/lib/python3.9/site-packages/tensorflow/python/eager/def_function.py\u001B[0m in \u001B[0;36mwrapped_fn\u001B[0;34m(*args, **kwds)\u001B[0m\n",
      "\u001B[0;32m~/miniforge3/envs/hongong/lib/python3.9/site-packages/tensorflow/python/framework/func_graph.py\u001B[0m in \u001B[0;36mwrapper\u001B[0;34m(*args, **kwargs)\u001B[0m\n",
      "\u001B[0;31mNotImplementedError\u001B[0m: in user code:\n\n    /Users/me/miniforge3/envs/hongong/lib/python3.9/site-packages/tensorflow/python/keras/engine/training.py:805 train_function  *\n        return step_function(self, iterator)\n    <ipython-input-66-8cc0fe026c72>:12 call  *\n        out = self.rnn_1(out)\n    /Users/me/miniforge3/envs/hongong/lib/python3.9/site-packages/tensorflow/python/keras/layers/recurrent.py:660 __call__  **\n        \n    /Users/me/miniforge3/envs/hongong/lib/python3.9/site-packages/tensorflow/python/keras/engine/base_layer.py:1012 __call__\n        \n    /Users/me/miniforge3/envs/hongong/lib/python3.9/site-packages/tensorflow/python/keras/layers/recurrent_v2.py:1157 call\n        \n    /Users/me/miniforge3/envs/hongong/lib/python3.9/site-packages/tensorflow/python/keras/layers/recurrent.py:859 _process_inputs\n        \n    /Users/me/miniforge3/envs/hongong/lib/python3.9/site-packages/tensorflow/python/keras/layers/recurrent.py:642 get_initial_state\n        \n    /Users/me/miniforge3/envs/hongong/lib/python3.9/site-packages/tensorflow/python/keras/layers/recurrent.py:2506 get_initial_state\n        \n    /Users/me/miniforge3/envs/hongong/lib/python3.9/site-packages/tensorflow/python/keras/layers/recurrent.py:2987 _generate_zero_filled_state_for_cell\n        \n    /Users/me/miniforge3/envs/hongong/lib/python3.9/site-packages/tensorflow/python/keras/layers/recurrent.py:3003 _generate_zero_filled_state\n        \n    /Users/me/miniforge3/envs/hongong/lib/python3.9/site-packages/tensorflow/python/util/nest.py:659 map_structure\n        \n    /Users/me/miniforge3/envs/hongong/lib/python3.9/site-packages/tensorflow/python/util/nest.py:659 <listcomp>\n        \n    /Users/me/miniforge3/envs/hongong/lib/python3.9/site-packages/tensorflow/python/keras/layers/recurrent.py:3000 create_zeros\n        \n    /Users/me/miniforge3/envs/hongong/lib/python3.9/site-packages/tensorflow/python/util/dispatch.py:201 wrapper\n        \n    /Users/me/miniforge3/envs/hongong/lib/python3.9/site-packages/tensorflow/python/ops/array_ops.py:2819 wrapped\n        \n    /Users/me/miniforge3/envs/hongong/lib/python3.9/site-packages/tensorflow/python/ops/array_ops.py:2868 zeros\n        \n    /Users/me/miniforge3/envs/hongong/lib/python3.9/site-packages/tensorflow/python/ops/array_ops.py:2804 _constant_if_small\n        \n    <__array_function__ internals>:5 prod\n        \n    /Users/me/miniforge3/envs/hongong/lib/python3.9/site-packages/numpy/core/fromnumeric.py:3030 prod\n        return _wrapreduction(a, np.multiply, 'prod', axis, dtype, out,\n    /Users/me/miniforge3/envs/hongong/lib/python3.9/site-packages/numpy/core/fromnumeric.py:87 _wrapreduction\n        return ufunc.reduce(obj, axis, dtype, out, **passkwargs)\n    /Users/me/miniforge3/envs/hongong/lib/python3.9/site-packages/tensorflow/python/framework/ops.py:852 __array__\n        \n\n    NotImplementedError: Cannot convert a symbolic Tensor (text_generator_6/lstm_12/strided_slice:0) to a numpy array. This error may indicate that you're trying to pass a Tensor to a NumPy call, which is not supported\n"
     ]
    }
   ],
   "source": [
    "optimizer = tf.keras.optimizers.Adam()\n",
    "loss = tf.keras.losses.SparseCategoricalCrossentropy(\n",
    "    from_logits=True,\n",
    "    reduction='none'\n",
    ")\n",
    "\n",
    "model.compile(loss=loss, optimizer=optimizer)\n",
    "model.fit(dataset, epochs=30)"
   ],
   "metadata": {
    "collapsed": false,
    "pycharm": {
     "name": "#%%\n"
    }
   }
  },
  {
   "cell_type": "code",
   "execution_count": null,
   "outputs": [],
   "source": [],
   "metadata": {
    "collapsed": false,
    "pycharm": {
     "name": "#%%\n"
    }
   }
  }
 ],
 "metadata": {
  "kernelspec": {
   "display_name": "Python 3",
   "language": "python",
   "name": "python3"
  },
  "language_info": {
   "codemirror_mode": {
    "name": "ipython",
    "version": 2
   },
   "file_extension": ".py",
   "mimetype": "text/x-python",
   "name": "python",
   "nbconvert_exporter": "python",
   "pygments_lexer": "ipython2",
   "version": "2.7.6"
  }
 },
 "nbformat": 4,
 "nbformat_minor": 0
}