{
 "cells": [
  {
   "cell_type": "code",
   "execution_count": 6,
   "metadata": {
    "collapsed": true,
    "pycharm": {
     "name": "#%%\n"
    }
   },
   "outputs": [
    {
     "name": "stdout",
     "output_type": "stream",
     "text": [
      "데이터 크기: 187088\n",
      "Examples:\n",
      " ['', '', 'All of this and more is for you']\n"
     ]
    }
   ],
   "source": [
    "import glob\n",
    "import os\n",
    "import re\n",
    "import tensorflow as tf\n",
    "\n",
    "txt_file_path = 'data/lyrics/*'\n",
    "\n",
    "txt_list = glob.glob(txt_file_path)\n",
    "\n",
    "raw_corpus = []\n",
    "\n",
    "# 여러개의 txt 파일을 모두 읽어서 raw_corpus 에 담습니다.\n",
    "for txt_file in txt_list:\n",
    "    with open(txt_file, \"r\") as f:\n",
    "        raw = f.read().splitlines()\n",
    "        raw_corpus.extend(raw)\n",
    "\n",
    "print(\"데이터 크기:\", len(raw_corpus))\n",
    "print(\"Examples:\\n\", raw_corpus[:3])\n",
    "\n",
    "def preprocess_sentence(sentence):\n",
    "    sentence = sentence.lower().strip() # 1\n",
    "    sentence = re.sub(r\"([?.!,¿])\", r\" \\1 \", sentence) # 2\n",
    "    sentence = re.sub(r'[\" \"]+', \" \", sentence) # 3\n",
    "    sentence = re.sub(r\"[^a-zA-Z?.!,¿]+\", \" \", sentence) # 4\n",
    "    sentence = sentence.strip() # 5\n",
    "    sentence = '<start> ' + sentence + ' <end>' # 6\n",
    "    return sentence\n",
    "\n",
    "corpus = []\n",
    "\n",
    "for sentence in raw_corpus:\n",
    "    size = len(sentence)\n",
    "    # 우리가 원하지 않는 문장은 건너뜁니다\n",
    "    if size == 0: continue\n",
    "    if len(sentence.split()) > 15: continue\n",
    "\n",
    "    # 정제를 하고 담아주세요\n",
    "    preprocessed_sentence = preprocess_sentence(sentence)\n",
    "    corpus.append(preprocessed_sentence)\n",
    "\n",
    "def tokenize(corpus):\n",
    "    # 7000단어를 기억할 수 있는 tokenizer를 만들겁니다\n",
    "    # 우리는 이미 문장을 정제했으니 filters가 필요없어요\n",
    "    # 7000단어에 포함되지 못한 단어는 '<unk>'로 바꿀거에요\n",
    "    tokenizer = tf.keras.preprocessing.text.Tokenizer(\n",
    "        num_words=12000,\n",
    "        filters=' ',\n",
    "        oov_token=\"<unk>\"\n",
    "    )\n",
    "    # corpus를 이용해 tokenizer 내부의 단어장을 완성합니다\n",
    "    tokenizer.fit_on_texts(corpus)\n",
    "    # 준비한 tokenizer를 이용해 corpus를 Tensor로 변환합니다\n",
    "    tensor = tokenizer.texts_to_sequences(corpus)\n",
    "    # 입력 데이터의 시퀀스 길이를 일정하게 맞춰줍니다\n",
    "    # 만약 시퀀스가 짧다면 문장 뒤에 패딩을 붙여 길이를 맞춰줍니다.\n",
    "    # 문장 앞에 패딩을 붙여 길이를 맞추고 싶다면 padding='pre'를 사용합니다\n",
    "    tensor = tf.keras.preprocessing.sequence.pad_sequences(tensor, padding='post')\n",
    "\n",
    "\n",
    "    # print(tensor,tokenizer)\n",
    "    return tensor, tokenizer\n",
    "\n",
    "tensor, tokenizer = tokenize(corpus)\n",
    "\n",
    "src_input = tensor[:, :-1]\n",
    "tgt_input = tensor[:, 1:]"
   ]
  },
  {
   "cell_type": "code",
   "execution_count": 7,
   "outputs": [],
   "source": [
    "from sklearn.model_selection import train_test_split\n",
    "\n",
    "enc_train, enc_val, dec_train, dec_val = train_test_split(src_input, tgt_input, random_state=42, test_size=0.2)"
   ],
   "metadata": {
    "collapsed": false,
    "pycharm": {
     "name": "#%%\n"
    }
   }
  },
  {
   "cell_type": "code",
   "execution_count": 9,
   "outputs": [
    {
     "name": "stdout",
     "output_type": "stream",
     "text": [
      "Epoch 1/30\n"
     ]
    },
    {
     "ename": "NotImplementedError",
     "evalue": "in user code:\n\n    /Users/me/miniforge3/envs/hongong/lib/python3.9/site-packages/tensorflow/python/keras/engine/training.py:805 train_function  *\n        return step_function(self, iterator)\n    /var/folders/hy/gwjxsmyd17j0hrz2pjrksmkc0000gn/T/ipykernel_27861/379259880.py:28 call  *\n        out = self.rnn_1(out)\n    /Users/me/miniforge3/envs/hongong/lib/python3.9/site-packages/tensorflow/python/keras/layers/recurrent.py:660 __call__  **\n        \n    /Users/me/miniforge3/envs/hongong/lib/python3.9/site-packages/tensorflow/python/keras/engine/base_layer.py:1012 __call__\n        \n    /Users/me/miniforge3/envs/hongong/lib/python3.9/site-packages/tensorflow/python/keras/layers/recurrent_v2.py:1157 call\n        \n    /Users/me/miniforge3/envs/hongong/lib/python3.9/site-packages/tensorflow/python/keras/layers/recurrent.py:859 _process_inputs\n        \n    /Users/me/miniforge3/envs/hongong/lib/python3.9/site-packages/tensorflow/python/keras/layers/recurrent.py:642 get_initial_state\n        \n    /Users/me/miniforge3/envs/hongong/lib/python3.9/site-packages/tensorflow/python/keras/layers/recurrent.py:2506 get_initial_state\n        \n    /Users/me/miniforge3/envs/hongong/lib/python3.9/site-packages/tensorflow/python/keras/layers/recurrent.py:2987 _generate_zero_filled_state_for_cell\n        \n    /Users/me/miniforge3/envs/hongong/lib/python3.9/site-packages/tensorflow/python/keras/layers/recurrent.py:3003 _generate_zero_filled_state\n        \n    /Users/me/miniforge3/envs/hongong/lib/python3.9/site-packages/tensorflow/python/util/nest.py:659 map_structure\n        \n    /Users/me/miniforge3/envs/hongong/lib/python3.9/site-packages/tensorflow/python/util/nest.py:659 <listcomp>\n        \n    /Users/me/miniforge3/envs/hongong/lib/python3.9/site-packages/tensorflow/python/keras/layers/recurrent.py:3000 create_zeros\n        \n    /Users/me/miniforge3/envs/hongong/lib/python3.9/site-packages/tensorflow/python/util/dispatch.py:201 wrapper\n        \n    /Users/me/miniforge3/envs/hongong/lib/python3.9/site-packages/tensorflow/python/ops/array_ops.py:2819 wrapped\n        \n    /Users/me/miniforge3/envs/hongong/lib/python3.9/site-packages/tensorflow/python/ops/array_ops.py:2868 zeros\n        \n    /Users/me/miniforge3/envs/hongong/lib/python3.9/site-packages/tensorflow/python/ops/array_ops.py:2804 _constant_if_small\n        \n    <__array_function__ internals>:5 prod\n        \n    /Users/me/miniforge3/envs/hongong/lib/python3.9/site-packages/numpy/core/fromnumeric.py:3030 prod\n        \n    /Users/me/miniforge3/envs/hongong/lib/python3.9/site-packages/numpy/core/fromnumeric.py:87 _wrapreduction\n        \n    /Users/me/miniforge3/envs/hongong/lib/python3.9/site-packages/tensorflow/python/framework/ops.py:852 __array__\n        \n\n    NotImplementedError: Cannot convert a symbolic Tensor (text_generator_1/lstm_2/strided_slice:0) to a numpy array. This error may indicate that you're trying to pass a Tensor to a NumPy call, which is not supported\n",
     "output_type": "error",
     "traceback": [
      "\u001B[0;31m---------------------------------------------------------------------------\u001B[0m",
      "\u001B[0;31mNotImplementedError\u001B[0m                       Traceback (most recent call last)",
      "\u001B[0;32m/var/folders/hy/gwjxsmyd17j0hrz2pjrksmkc0000gn/T/ipykernel_27861/379259880.py\u001B[0m in \u001B[0;36m<module>\u001B[0;34m\u001B[0m\n\u001B[1;32m     43\u001B[0m \u001B[0;34m\u001B[0m\u001B[0m\n\u001B[1;32m     44\u001B[0m \u001B[0mmodel\u001B[0m\u001B[0;34m.\u001B[0m\u001B[0mcompile\u001B[0m\u001B[0;34m(\u001B[0m\u001B[0mloss\u001B[0m\u001B[0;34m=\u001B[0m\u001B[0mloss\u001B[0m\u001B[0;34m,\u001B[0m \u001B[0moptimizer\u001B[0m\u001B[0;34m=\u001B[0m\u001B[0moptimizer\u001B[0m\u001B[0;34m)\u001B[0m\u001B[0;34m\u001B[0m\u001B[0;34m\u001B[0m\u001B[0m\n\u001B[0;32m---> 45\u001B[0;31m \u001B[0mmodel\u001B[0m\u001B[0;34m.\u001B[0m\u001B[0mfit\u001B[0m\u001B[0;34m(\u001B[0m\u001B[0mdataset\u001B[0m\u001B[0;34m,\u001B[0m \u001B[0mepochs\u001B[0m\u001B[0;34m=\u001B[0m\u001B[0;36m30\u001B[0m\u001B[0;34m)\u001B[0m\u001B[0;34m\u001B[0m\u001B[0;34m\u001B[0m\u001B[0m\n\u001B[0m",
      "\u001B[0;32m~/miniforge3/envs/hongong/lib/python3.9/site-packages/tensorflow/python/keras/engine/training.py\u001B[0m in \u001B[0;36mfit\u001B[0;34m(self, x, y, batch_size, epochs, verbose, callbacks, validation_split, validation_data, shuffle, class_weight, sample_weight, initial_epoch, steps_per_epoch, validation_steps, validation_batch_size, validation_freq, max_queue_size, workers, use_multiprocessing)\u001B[0m\n",
      "\u001B[0;32m~/miniforge3/envs/hongong/lib/python3.9/site-packages/tensorflow/python/eager/def_function.py\u001B[0m in \u001B[0;36m__call__\u001B[0;34m(self, *args, **kwds)\u001B[0m\n",
      "\u001B[0;32m~/miniforge3/envs/hongong/lib/python3.9/site-packages/tensorflow/python/eager/def_function.py\u001B[0m in \u001B[0;36m_call\u001B[0;34m(self, *args, **kwds)\u001B[0m\n",
      "\u001B[0;32m~/miniforge3/envs/hongong/lib/python3.9/site-packages/tensorflow/python/eager/def_function.py\u001B[0m in \u001B[0;36m_initialize\u001B[0;34m(self, args, kwds, add_initializers_to)\u001B[0m\n",
      "\u001B[0;32m~/miniforge3/envs/hongong/lib/python3.9/site-packages/tensorflow/python/eager/function.py\u001B[0m in \u001B[0;36m_get_concrete_function_internal_garbage_collected\u001B[0;34m(self, *args, **kwargs)\u001B[0m\n",
      "\u001B[0;32m~/miniforge3/envs/hongong/lib/python3.9/site-packages/tensorflow/python/eager/function.py\u001B[0m in \u001B[0;36m_maybe_define_function\u001B[0;34m(self, args, kwargs)\u001B[0m\n",
      "\u001B[0;32m~/miniforge3/envs/hongong/lib/python3.9/site-packages/tensorflow/python/eager/function.py\u001B[0m in \u001B[0;36m_create_graph_function\u001B[0;34m(self, args, kwargs, override_flat_arg_shapes)\u001B[0m\n",
      "\u001B[0;32m~/miniforge3/envs/hongong/lib/python3.9/site-packages/tensorflow/python/framework/func_graph.py\u001B[0m in \u001B[0;36mfunc_graph_from_py_func\u001B[0;34m(name, python_func, args, kwargs, signature, func_graph, autograph, autograph_options, add_control_dependencies, arg_names, op_return_value, collections, capture_by_value, override_flat_arg_shapes)\u001B[0m\n",
      "\u001B[0;32m~/miniforge3/envs/hongong/lib/python3.9/site-packages/tensorflow/python/eager/def_function.py\u001B[0m in \u001B[0;36mwrapped_fn\u001B[0;34m(*args, **kwds)\u001B[0m\n",
      "\u001B[0;32m~/miniforge3/envs/hongong/lib/python3.9/site-packages/tensorflow/python/framework/func_graph.py\u001B[0m in \u001B[0;36mwrapper\u001B[0;34m(*args, **kwargs)\u001B[0m\n",
      "\u001B[0;31mNotImplementedError\u001B[0m: in user code:\n\n    /Users/me/miniforge3/envs/hongong/lib/python3.9/site-packages/tensorflow/python/keras/engine/training.py:805 train_function  *\n        return step_function(self, iterator)\n    /var/folders/hy/gwjxsmyd17j0hrz2pjrksmkc0000gn/T/ipykernel_27861/379259880.py:28 call  *\n        out = self.rnn_1(out)\n    /Users/me/miniforge3/envs/hongong/lib/python3.9/site-packages/tensorflow/python/keras/layers/recurrent.py:660 __call__  **\n        \n    /Users/me/miniforge3/envs/hongong/lib/python3.9/site-packages/tensorflow/python/keras/engine/base_layer.py:1012 __call__\n        \n    /Users/me/miniforge3/envs/hongong/lib/python3.9/site-packages/tensorflow/python/keras/layers/recurrent_v2.py:1157 call\n        \n    /Users/me/miniforge3/envs/hongong/lib/python3.9/site-packages/tensorflow/python/keras/layers/recurrent.py:859 _process_inputs\n        \n    /Users/me/miniforge3/envs/hongong/lib/python3.9/site-packages/tensorflow/python/keras/layers/recurrent.py:642 get_initial_state\n        \n    /Users/me/miniforge3/envs/hongong/lib/python3.9/site-packages/tensorflow/python/keras/layers/recurrent.py:2506 get_initial_state\n        \n    /Users/me/miniforge3/envs/hongong/lib/python3.9/site-packages/tensorflow/python/keras/layers/recurrent.py:2987 _generate_zero_filled_state_for_cell\n        \n    /Users/me/miniforge3/envs/hongong/lib/python3.9/site-packages/tensorflow/python/keras/layers/recurrent.py:3003 _generate_zero_filled_state\n        \n    /Users/me/miniforge3/envs/hongong/lib/python3.9/site-packages/tensorflow/python/util/nest.py:659 map_structure\n        \n    /Users/me/miniforge3/envs/hongong/lib/python3.9/site-packages/tensorflow/python/util/nest.py:659 <listcomp>\n        \n    /Users/me/miniforge3/envs/hongong/lib/python3.9/site-packages/tensorflow/python/keras/layers/recurrent.py:3000 create_zeros\n        \n    /Users/me/miniforge3/envs/hongong/lib/python3.9/site-packages/tensorflow/python/util/dispatch.py:201 wrapper\n        \n    /Users/me/miniforge3/envs/hongong/lib/python3.9/site-packages/tensorflow/python/ops/array_ops.py:2819 wrapped\n        \n    /Users/me/miniforge3/envs/hongong/lib/python3.9/site-packages/tensorflow/python/ops/array_ops.py:2868 zeros\n        \n    /Users/me/miniforge3/envs/hongong/lib/python3.9/site-packages/tensorflow/python/ops/array_ops.py:2804 _constant_if_small\n        \n    <__array_function__ internals>:5 prod\n        \n    /Users/me/miniforge3/envs/hongong/lib/python3.9/site-packages/numpy/core/fromnumeric.py:3030 prod\n        \n    /Users/me/miniforge3/envs/hongong/lib/python3.9/site-packages/numpy/core/fromnumeric.py:87 _wrapreduction\n        \n    /Users/me/miniforge3/envs/hongong/lib/python3.9/site-packages/tensorflow/python/framework/ops.py:852 __array__\n        \n\n    NotImplementedError: Cannot convert a symbolic Tensor (text_generator_1/lstm_2/strided_slice:0) to a numpy array. This error may indicate that you're trying to pass a Tensor to a NumPy call, which is not supported\n"
     ]
    }
   ],
   "source": [
    "BUFFER_SIZE = len(enc_train)\n",
    "BATCH_SIZE = 256\n",
    "steps_per_epoch = len(enc_train) // BATCH_SIZE\n",
    "\n",
    "# tokenizer가 구축한 단어사전 내 7000개와, 여기 포함되지 않은 0:<pad>를 포함하여 7001개\n",
    "VOCAB_SIZE = tokenizer.num_words + 1\n",
    "\n",
    "# 준비한 데이터 소스로부터 데이터셋을 만듭니다\n",
    "# 데이터셋에 대해서는 아래 문서를 참고하세요\n",
    "# 자세히 알아둘수록 도움이 많이 되는 중요한 문서입니다\n",
    "# https://www.tensorflow.org/api_docs/python/tf/data/Dataset\n",
    "# dataset = tf.data.Dataset.from_tensor_slices((enc_train, dec_train))\n",
    "dataset = tf.data.Dataset.from_tensor_slices((enc_train, dec_train))\n",
    "dataset = dataset.shuffle(BUFFER_SIZE)\n",
    "dataset = dataset.batch(BATCH_SIZE, drop_remainder=True)\n",
    "\n",
    "class TextGenerator(tf.keras.Model):\n",
    "    def __init__(self, vocab_size, embedding_size, hidden_size):\n",
    "        super().__init__()\n",
    "\n",
    "        self.embedding = tf.keras.layers.Embedding(vocab_size, embedding_size)\n",
    "        self.rnn_1 = tf.keras.layers.LSTM(hidden_size, return_sequences=True)\n",
    "        self.rnn_2 = tf.keras.layers.LSTM(hidden_size, return_sequences=True)\n",
    "        self.linear = tf.keras.layers.Dense(vocab_size)\n",
    "\n",
    "    def call(self, x):\n",
    "        out = self.embedding(x)\n",
    "        out = self.rnn_1(out)\n",
    "        out = self.rnn_2(out)\n",
    "        out = self.linear(out)\n",
    "\n",
    "        return out\n",
    "\n",
    "embedding_size = 256\n",
    "hidden_size = 1024\n",
    "model = TextGenerator(tokenizer.num_words + 1, embedding_size , hidden_size)\n",
    "\n",
    "optimizer = tf.keras.optimizers.Adam()\n",
    "loss = tf.keras.losses.SparseCategoricalCrossentropy(\n",
    "    from_logits=True,\n",
    "    reduction='none'\n",
    ")\n",
    "\n",
    "model.compile(loss=loss, optimizer=optimizer)\n",
    "model.fit(dataset, epochs=30)"
   ],
   "metadata": {
    "collapsed": false,
    "pycharm": {
     "name": "#%%\n"
    }
   }
  },
  {
   "cell_type": "code",
   "execution_count": null,
   "outputs": [],
   "source": [
    "generate_text(lyricist, tokenizer, init_sentence=\"<start> i love\", max_len=20)"
   ],
   "metadata": {
    "collapsed": false,
    "pycharm": {
     "name": "#%%\n"
    }
   }
  }
 ],
 "metadata": {
  "kernelspec": {
   "display_name": "Python 3",
   "language": "python",
   "name": "python3"
  },
  "language_info": {
   "codemirror_mode": {
    "name": "ipython",
    "version": 2
   },
   "file_extension": ".py",
   "mimetype": "text/x-python",
   "name": "python",
   "nbconvert_exporter": "python",
   "pygments_lexer": "ipython2",
   "version": "2.7.6"
  }
 },
 "nbformat": 4,
 "nbformat_minor": 0
}